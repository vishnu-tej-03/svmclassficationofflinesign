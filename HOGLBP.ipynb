{
 "cells": [
  {
   "cell_type": "markdown",
   "id": "d101b852",
   "metadata": {},
   "source": [
    "## Extracting the hog and Lbp features "
   ]
  },
  {
   "cell_type": "markdown",
   "id": "60bd0c8a",
   "metadata": {},
   "source": [
    "### Importing Datasets"
   ]
  },
  {
   "cell_type": "code",
   "execution_count": 1,
   "id": "50d283ff",
   "metadata": {},
   "outputs": [],
   "source": [
    "import os\n",
    "import numpy as np\n",
    "import cv2\n",
    "import matplotlib.pyplot as plt\n",
    "from skimage.feature import hog\n",
    "import pickle\n",
    "import random\n",
    "from sklearn.model_selection import train_test_split\n",
    "from sklearn.svm import SVC\n",
    "from sklearn.metrics import classification_report, confusion_matrix\n",
    "from sklearn.model_selection import GridSearchCV"
   ]
  },
  {
   "cell_type": "markdown",
   "id": "833d1efc",
   "metadata": {},
   "source": [
    "### Saving the features in different files"
   ]
  },
  {
   "cell_type": "code",
   "execution_count": 6,
   "id": "dc613da8",
   "metadata": {},
   "outputs": [],
   "source": [
    "dir='C:\\\\Users\\\\vishnu\\\\Desktop\\\\Data_science\\\\ML\\\\BHSig260'\n",
    "\n",
    "def get_pixel(img, center, x, y):\n",
    "      \n",
    "    new_value = 0\n",
    "      \n",
    "    try:\n",
    "        # If local neighbourhood pixel \n",
    "        # value is greater than or equal\n",
    "        # to center pixel values then \n",
    "        # set it to 1\n",
    "        if img[x][y] >= center:\n",
    "            new_value = 1\n",
    "              \n",
    "    except:\n",
    "        # Exception is required when \n",
    "        # neighbourhood value of a center\n",
    "        # pixel value is null i.e. values\n",
    "        # present at boundaries.\n",
    "        pass\n",
    "      \n",
    "    return new_value\n",
    "   \n",
    "# Function for calculating LBP\n",
    "def lbp_calculated_pixel(img, x, y):\n",
    "   \n",
    "    center = img[x][y]\n",
    "   \n",
    "    val_ar = []\n",
    "      \n",
    "    # top_left\n",
    "    val_ar.append(get_pixel(img, center, x-1, y-1))\n",
    "      \n",
    "    # top\n",
    "    val_ar.append(get_pixel(img, center, x-1, y))\n",
    "      \n",
    "    # top_right\n",
    "    val_ar.append(get_pixel(img, center, x-1, y + 1))\n",
    "      \n",
    "    # right\n",
    "    val_ar.append(get_pixel(img, center, x, y + 1))\n",
    "      \n",
    "    # bottom_right\n",
    "    val_ar.append(get_pixel(img, center, x + 1, y + 1))\n",
    "      \n",
    "    # bottom\n",
    "    val_ar.append(get_pixel(img, center, x + 1, y))\n",
    "      \n",
    "    # bottom_left\n",
    "    val_ar.append(get_pixel(img, center, x + 1, y-1))\n",
    "      \n",
    "    # left\n",
    "    val_ar.append(get_pixel(img, center, x, y-1))\n",
    "       \n",
    "    # Now, we need to convert binary\n",
    "    # values to decimal\n",
    "    power_val = [1, 2, 4, 8, 16, 32, 64, 128]\n",
    "   \n",
    "    val = 0\n",
    "      \n",
    "    for i in range(len(val_ar)):\n",
    "        val += val_ar[i] * power_val[i]\n",
    "          \n",
    "    return val\n",
    "\n",
    "\n",
    "categories=['Bengali','Hindi']\n",
    "\n",
    "datahog=[]\n",
    "datalbp=[]\n",
    "\n",
    "for category in categories:\n",
    "    path1=os.path.join(dir,category)\n",
    "    label=categories.index(category)\n",
    "    \n",
    "    for fol in os.listdir(path1):\n",
    "        path2=os.path.join(path1,fol)\n",
    "        for img in os.listdir(path2):\n",
    "            imgpath=os.path.join(path2,img)\n",
    "            langimage=cv2.imread(imgpath,1)\n",
    "            try:\n",
    "                langimage=cv2.resize(langimage,(128,64))\n",
    "                height, width, _ = langimage.shape\n",
    "                img_gray = cv2.cvtColor(langimage,\n",
    "                                        cv2.COLOR_BGR2GRAY)\n",
    "                img_lbp = np.zeros((height, width),\n",
    "                                    np.uint8)\n",
    "                for i in range(0, height):\n",
    "                    for j in range(0, width):\n",
    "                        img_lbp[i, j] = lbp_calculated_pixel(img_gray, i, j)\n",
    "                featurelbp=np.array(img_lbp).flatten()\n",
    "                datalbp.append([featurelbp,label])\n",
    "                fd=hog(langimage,orientations=9,pixels_per_cell=(8,8),cells_per_block=(2,2),visualize=False, multichannel=True)\n",
    "                featurehog=np.array(fd).flatten()\n",
    "                datahog.append([featurehog,label])\n",
    "            except Exception as e:\n",
    "                pass"
   ]
  },
  {
   "cell_type": "markdown",
   "id": "257cee7f",
   "metadata": {},
   "source": [
    "#### HOG FILE"
   ]
  },
  {
   "cell_type": "code",
   "execution_count": 7,
   "id": "13289a20",
   "metadata": {},
   "outputs": [],
   "source": [
    "pick_in=open('datahog.pickle','wb')\n",
    "pickle.dump(datahog,pick_in)\n",
    "pick_in.close()"
   ]
  },
  {
   "cell_type": "markdown",
   "id": "6286978f",
   "metadata": {},
   "source": [
    "#### LBP FILE"
   ]
  },
  {
   "cell_type": "code",
   "execution_count": 9,
   "id": "b2bdfcdb",
   "metadata": {},
   "outputs": [],
   "source": [
    "pick=open('datalbp.pickle','wb')\n",
    "pickle.dump(datalbp,pick)\n",
    "pick.close()"
   ]
  },
  {
   "cell_type": "markdown",
   "id": "1c719d09",
   "metadata": {},
   "source": [
    "### loading the hogdata"
   ]
  },
  {
   "cell_type": "code",
   "execution_count": 2,
   "id": "94a62370",
   "metadata": {},
   "outputs": [
    {
     "name": "stdout",
     "output_type": "stream",
     "text": [
      "14040\n"
     ]
    }
   ],
   "source": [
    "pick_in=open('datahog.pickle','rb')\n",
    "datahog=pickle.load(pick_in)\n",
    "pick_in.close()\n",
    "featureshog=[]\n",
    "labelshog=[]\n",
    "\n",
    "print(len(datahog))\n",
    "\n",
    "for featurehog,labelhog in datahog:\n",
    "    featureshog.append(featurehog)\n",
    "    labelshog.append(labelhog)"
   ]
  },
  {
   "cell_type": "markdown",
   "id": "c2b10f96",
   "metadata": {},
   "source": [
    "### loading the lbpdata"
   ]
  },
  {
   "cell_type": "code",
   "execution_count": 3,
   "id": "a90a6be2",
   "metadata": {},
   "outputs": [
    {
     "name": "stdout",
     "output_type": "stream",
     "text": [
      "14040\n"
     ]
    }
   ],
   "source": [
    "pick=open('datalbp.pickle','rb')\n",
    "datalbp=pickle.load(pick)\n",
    "pick.close()\n",
    "featureslbp=[]\n",
    "labelslbp=[]\n",
    "\n",
    "print(len(datalbp))\n",
    "\n",
    "for featurelbp,labellbp in datalbp:\n",
    "    featureslbp.append(featurelbp)\n",
    "    labelslbp.append(labellbp)"
   ]
  },
  {
   "cell_type": "markdown",
   "id": "f9c5d1f3",
   "metadata": {},
   "source": [
    "## splitting hog "
   ]
  },
  {
   "cell_type": "code",
   "execution_count": 5,
   "id": "4e2e01c9",
   "metadata": {},
   "outputs": [],
   "source": [
    "xhtrain,xhtest,yhtrain,yhtest=train_test_split(featureshog,labelshog,test_size=0.30)"
   ]
  },
  {
   "cell_type": "markdown",
   "id": "0f0baae7",
   "metadata": {},
   "source": [
    "## splitting lbp"
   ]
  },
  {
   "cell_type": "code",
   "execution_count": 6,
   "id": "5731e4ee",
   "metadata": {},
   "outputs": [],
   "source": [
    "xltrain,xltest,yltrain,yltest=train_test_split(featureslbp,labelslbp,test_size=0.30)"
   ]
  },
  {
   "cell_type": "markdown",
   "id": "2f424845",
   "metadata": {},
   "source": [
    "## Grid Search"
   ]
  },
  {
   "cell_type": "code",
   "execution_count": 7,
   "id": "285ffeb6",
   "metadata": {},
   "outputs": [
    {
     "name": "stdout",
     "output_type": "stream",
     "text": [
      "Fitting 5 folds for each of 3 candidates, totalling 15 fits\n",
      "[CV 1/5] END .................C=0.1, gamma=auto, kernel=poly; total time= 7.3min\n",
      "[CV 2/5] END .................C=0.1, gamma=auto, kernel=poly; total time= 6.7min\n",
      "[CV 3/5] END .................C=0.1, gamma=auto, kernel=poly; total time= 7.0min\n",
      "[CV 4/5] END .................C=0.1, gamma=auto, kernel=poly; total time= 6.9min\n",
      "[CV 5/5] END .................C=0.1, gamma=auto, kernel=poly; total time= 6.7min\n",
      "[CV 1/5] END ...................C=1, gamma=auto, kernel=poly; total time= 7.0min\n",
      "[CV 2/5] END ...................C=1, gamma=auto, kernel=poly; total time= 5.8min\n",
      "[CV 3/5] END ...................C=1, gamma=auto, kernel=poly; total time= 6.1min\n",
      "[CV 4/5] END ...................C=1, gamma=auto, kernel=poly; total time= 6.6min\n",
      "[CV 5/5] END ...................C=1, gamma=auto, kernel=poly; total time= 6.0min\n",
      "[CV 1/5] END ..................C=10, gamma=auto, kernel=poly; total time= 6.6min\n",
      "[CV 2/5] END ..................C=10, gamma=auto, kernel=poly; total time= 5.6min\n",
      "[CV 3/5] END ..................C=10, gamma=auto, kernel=poly; total time= 6.7min\n",
      "[CV 4/5] END ..................C=10, gamma=auto, kernel=poly; total time= 6.7min\n",
      "[CV 5/5] END ..................C=10, gamma=auto, kernel=poly; total time= 5.8min\n",
      "{'C': 0.1, 'gamma': 'auto', 'kernel': 'poly'}\n",
      "SVC(C=0.1, gamma='auto', kernel='poly')\n",
      "              precision    recall  f1-score   support\n",
      "\n",
      "           0       0.64      0.70      0.67      1618\n",
      "           1       0.80      0.75      0.78      2594\n",
      "\n",
      "    accuracy                           0.73      4212\n",
      "   macro avg       0.72      0.72      0.72      4212\n",
      "weighted avg       0.74      0.73      0.73      4212\n",
      "\n"
     ]
    }
   ],
   "source": [
    "# defining parameter range\n",
    "param_grid = {'C': [0.1, 1, 10], \n",
    "              'gamma': ['auto'],\n",
    "              'kernel': ['poly']} \n",
    "  \n",
    "grid = GridSearchCV(SVC(), param_grid, refit = True, verbose = 3)\n",
    "  \n",
    "# fitting the model for grid search\n",
    "grid.fit(xltrain, yltrain)\n",
    "print(grid.best_params_)\n",
    "  \n",
    "# print how our model looks after hyper-parameter tuning\n",
    "print(grid.best_estimator_)\n",
    "grid_predictions = grid.predict(xltest)\n",
    "  \n",
    "# print classification report\n",
    "print(classification_report(yltest, grid_predictions))"
   ]
  },
  {
   "cell_type": "markdown",
   "id": "11e29e26",
   "metadata": {},
   "source": [
    "## Training model for Lbp"
   ]
  },
  {
   "cell_type": "code",
   "execution_count": null,
   "id": "459ef842",
   "metadata": {},
   "outputs": [],
   "source": [
    "modellbp=SVC(C=1,kernel='poly',gamma='auto')\n",
    "modellbp.fit(xltrain,yltrain)"
   ]
  },
  {
   "cell_type": "markdown",
   "id": "c5b9364d",
   "metadata": {},
   "source": [
    "### storing the model"
   ]
  },
  {
   "cell_type": "code",
   "execution_count": null,
   "id": "5fac50ba",
   "metadata": {},
   "outputs": [],
   "source": [
    "pick=open('LBP.sav','wb')\n",
    "pickle.dump(modellbp,pick)\n",
    "pick.close()"
   ]
  },
  {
   "cell_type": "code",
   "execution_count": 57,
   "id": "3fc87b27",
   "metadata": {},
   "outputs": [
    {
     "name": "stdout",
     "output_type": "stream",
     "text": [
      "Accuracy:  0.7350427350427351\n",
      "Prediction is : Bengali\n",
      "              precision    recall  f1-score   support\n",
      "\n",
      "           0       0.65      0.69      0.67      1624\n",
      "           1       0.80      0.77      0.78      2588\n",
      "\n",
      "    accuracy                           0.74      4212\n",
      "   macro avg       0.72      0.73      0.72      4212\n",
      "weighted avg       0.74      0.74      0.74      4212\n",
      "\n"
     ]
    }
   ],
   "source": [
    "predictionlbp=modellbp.predict(xltest)\n",
    "accuracylbp=modellbp.score(xltest,yltest)\n",
    "\n",
    "categories=['Bengali','Hindi']\n",
    "\n",
    "print('Accuracy: ',accuracylbp)\n",
    "print('Prediction is :',categories[predictionlbp[0]])\n",
    "print(classification_report(yltest, predictionlbp))"
   ]
  },
  {
   "cell_type": "markdown",
   "id": "fb7275ec",
   "metadata": {},
   "source": [
    "#### checking"
   ]
  },
  {
   "cell_type": "code",
   "execution_count": 21,
   "id": "7e2ba801",
   "metadata": {},
   "outputs": [
    {
     "data": {
      "image/png": "[encoded data removed]",
      "text/plain": [
       "<Figure size 432x288 with 1 Axes>"
      ]
     },
     "metadata": {
      "needs_background": "light"
     },
     "output_type": "display_data"
    }
   ],
   "source": [
    "imgl=xltest[0].reshape(64,128)\n",
    "plt.imshow(imgl, cmap =\"gray\")\n",
    "plt.show()"
   ]
  },
  {
   "cell_type": "markdown",
   "id": "38a67fd2",
   "metadata": {},
   "source": [
    "## Training model for hog"
   ]
  },
  {
   "cell_type": "code",
   "execution_count": 10,
   "id": "56f67756",
   "metadata": {},
   "outputs": [
    {
     "data": {
      "text/plain": [
       "SVC(C=0.1, gamma='auto', kernel='poly')"
      ]
     },
     "execution_count": 10,
     "metadata": {},
     "output_type": "execute_result"
    }
   ],
   "source": [
    "modelhog=SVC(C=0.1,kernel='poly',gamma=1)\n",
    "modelhog.fit(xhtrain,yhtrain)"
   ]
  },
  {
   "cell_type": "code",
   "execution_count": 11,
   "id": "92ced6e6",
   "metadata": {},
   "outputs": [
    {
     "name": "stdout",
     "output_type": "stream",
     "text": [
      "Accuracy:  0.7272079772079773\n",
      "Prediction is : Hindi\n",
      "              precision    recall  f1-score   support\n",
      "\n",
      "           0       0.64      0.67      0.66      1628\n",
      "           1       0.79      0.76      0.77      2584\n",
      "\n",
      "    accuracy                           0.73      4212\n",
      "   macro avg       0.71      0.72      0.71      4212\n",
      "weighted avg       0.73      0.73      0.73      4212\n",
      "\n"
     ]
    }
   ],
   "source": [
    "predictionhog=modelhog.predict(xhtest)\n",
    "accuracyhog=modelhog.score(xhtest,yhtest)\n",
    "\n",
    "categories=['Bengali','Hindi']\n",
    "\n",
    "print('Accuracy: ',accuracyhog)\n",
    "print('Prediction is :',categories[predictionhog[0]])\n",
    "print(classification_report(yhtest, predictionhog))"
   ]
  },
  {
   "cell_type": "code",
   "execution_count": null,
   "id": "b829f2fe",
   "metadata": {},
   "outputs": [],
   "source": []
  }
 ],
 "metadata": {
  "kernelspec": {
   "display_name": "Python 3",
   "language": "python",
   "name": "python3"
  },
  "language_info": {
   "codemirror_mode": {
    "name": "ipython",
    "version": 3
   },
   "file_extension": ".py",
   "mimetype": "text/x-python",
   "name": "python",
   "nbconvert_exporter": "python",
   "pygments_lexer": "ipython3",
   "version": "3.8.8"
  }
 },
 "nbformat": 4,
 "nbformat_minor": 5
}
