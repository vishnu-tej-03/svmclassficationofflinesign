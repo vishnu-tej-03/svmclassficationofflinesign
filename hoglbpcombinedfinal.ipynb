{
 "cells": [
  {
   "cell_type": "markdown",
   "id": "b68ce848",
   "metadata": {},
   "source": [
    "# HOG-LBP SVM"
   ]
  },
  {
   "cell_type": "markdown",
   "id": "6ffa11d0",
   "metadata": {},
   "source": [
    "## Importing dataset"
   ]
  },
  {
   "cell_type": "code",
   "execution_count": 1,
   "id": "1ce2fa32",
   "metadata": {},
   "outputs": [],
   "source": [
    "\n",
    "import os\n",
    "import numpy as np\n",
    "import cv2\n",
    "import matplotlib.pyplot as plt\n",
    "from skimage.feature import hog\n",
    "import pickle\n",
    "import random\n",
    "from sklearn.model_selection import train_test_split\n",
    "from sklearn.svm import SVC\n",
    "from sklearn.metrics import classification_report, confusion_matrix\n",
    "from sklearn.model_selection import GridSearchCV"
   ]
  },
  {
   "cell_type": "markdown",
   "id": "d7c11cbc",
   "metadata": {},
   "source": [
    "## Extracting features"
   ]
  },
  {
   "cell_type": "code",
   "execution_count": 13,
   "id": "8db0701d",
   "metadata": {},
   "outputs": [
    {
     "data": {
      "image/png": "[encoded data removed]",
      "text/plain": [
       "<Figure size 432x288 with 1 Axes>"
      ]
     },
     "metadata": {
      "needs_background": "light"
     },
     "output_type": "display_data"
    }
   ],
   "source": [
    "dir='C:\\\\Users\\\\vishnu\\\\Desktop\\\\Data_science\\\\ML\\\\BHSig260'\n",
    "\n",
    "def get_pixel(img, center, x, y):\n",
    "      \n",
    "    new_value = 0\n",
    "      \n",
    "    try:\n",
    "        # If local neighbourhood pixel \n",
    "        # value is greater than or equal\n",
    "        # to center pixel values then \n",
    "        # set it to 1\n",
    "        if img[x][y] >= center:\n",
    "            new_value = 1\n",
    "              \n",
    "    except:\n",
    "        # Exception is required when \n",
    "        # neighbourhood value of a center\n",
    "        # pixel value is null i.e. values\n",
    "        # present at boundaries.\n",
    "        pass\n",
    "      \n",
    "    return new_value\n",
    "   \n",
    "# Function for calculating LBP\n",
    "def lbp_calculated_pixel(img, x, y):\n",
    "   \n",
    "    center = img[x][y]\n",
    "   \n",
    "    val_ar = []\n",
    "      \n",
    "    # top_left\n",
    "    val_ar.append(get_pixel(img, center, x-1, y-1))\n",
    "      \n",
    "    # top\n",
    "    val_ar.append(get_pixel(img, center, x-1, y))\n",
    "      \n",
    "    # top_right\n",
    "    val_ar.append(get_pixel(img, center, x-1, y + 1))\n",
    "      \n",
    "    # right\n",
    "    val_ar.append(get_pixel(img, center, x, y + 1))\n",
    "      \n",
    "    # bottom_right\n",
    "    val_ar.append(get_pixel(img, center, x + 1, y + 1))\n",
    "      \n",
    "    # bottom\n",
    "    val_ar.append(get_pixel(img, center, x + 1, y))\n",
    "      \n",
    "    # bottom_left\n",
    "    val_ar.append(get_pixel(img, center, x + 1, y-1))\n",
    "      \n",
    "    # left\n",
    "    val_ar.append(get_pixel(img, center, x, y-1))\n",
    "       \n",
    "    # Now, we need to convert binary\n",
    "    # values to decimal\n",
    "    power_val = [1, 2, 4, 8, 16, 32, 64, 128]\n",
    "   \n",
    "    val = 0\n",
    "      \n",
    "    for i in range(len(val_ar)):\n",
    "        val += val_ar[i] * power_val[i]\n",
    "          \n",
    "    return val\n",
    "\n",
    "\n",
    "categories=['Bengali','Hindi']\n",
    "\n",
    "data=[]\n",
    "\n",
    "for category in categories:\n",
    "    path1=os.path.join(dir,category)\n",
    "    label=categories.index(category)\n",
    "    \n",
    "    for fol in os.listdir(path1):\n",
    "        path2=os.path.join(path1,fol)\n",
    "        for img in os.listdir(path2):\n",
    "            imgpath=os.path.join(path2,img)\n",
    "            langimage=cv2.imread(imgpath,1)\n",
    "            try:\n",
    "                langimage=cv2.resize(langimage,(64,128))\n",
    "                height, width, _ = langimage.shape\n",
    "                img_gray = cv2.cvtColor(langimage,\n",
    "                                        cv2.COLOR_BGR2GRAY)\n",
    "                img_lbp = np.zeros((height, width),\n",
    "                                    np.uint8)\n",
    "                for i in range(0, height):\n",
    "                    for j in range(0, width):\n",
    "                        img_lbp[i, j] = lbp_calculated_pixel(img_gray, i, j)\n",
    "                featurelbp=np.array(img_lbp).flatten()\n",
    "                fd=hog(langimage,orientations=9,pixels_per_cell=(8,8),cells_per_block=(2,2),visualize=False, multichannel=True)\n",
    "                featurehog=np.array(fd).flatten()\n",
    "                data.append([featurehog,featurelbp,label])\n",
    "                break\n",
    "            except Exception as e:\n",
    "                pass\n",
    "plt.imshow(img_lbp,cmap='gray')\n",
    "plt.show()"
   ]
  },
  {
   "cell_type": "markdown",
   "id": "6c4073a8",
   "metadata": {},
   "source": [
    "## Storing these features"
   ]
  },
  {
   "cell_type": "code",
   "execution_count": 3,
   "id": "f0627675",
   "metadata": {},
   "outputs": [],
   "source": [
    "pick_in=open('final.pickle','wb')\n",
    "pickle.dump(data,pick_in)\n",
    "pick_in.close()"
   ]
  },
  {
   "cell_type": "markdown",
   "id": "72c96c3b",
   "metadata": {},
   "source": [
    "## Seperating the feature for hog and lbp models"
   ]
  },
  {
   "cell_type": "code",
   "execution_count": 2,
   "id": "f3b8dd42",
   "metadata": {},
   "outputs": [
    {
     "name": "stdout",
     "output_type": "stream",
     "text": [
      "14040\n"
     ]
    }
   ],
   "source": [
    "import random\n",
    "\n",
    "pick=open('final.pickle','rb')\n",
    "data=pickle.load(pick)\n",
    "pick.close()\n",
    "featureshog=[]\n",
    "labelshog=[]\n",
    "featureslbp=[]\n",
    "labelslbp=[]\n",
    "combinedfeatures=[]\n",
    "combinedlabels=[]\n",
    "random.shuffle(data)\n",
    "print(len(data))\n",
    "\n",
    "for featurehog,featurelbp,label in data:\n",
    "    featureshog.append(featurehog)\n",
    "    labelshog.append(label)\n",
    "    featureslbp.append(featurelbp)\n",
    "    labelslbp.append(label)\n",
    "    b=np.hstack((featurehog,featurelbp))\n",
    "    combinedfeatures.append(b)\n",
    "    combinedlabels.append(label)"
   ]
  },
  {
   "cell_type": "markdown",
   "id": "35dd4d44",
   "metadata": {},
   "source": [
    "## Splitting the data"
   ]
  },
  {
   "cell_type": "code",
   "execution_count": 3,
   "id": "8b3abcfb",
   "metadata": {},
   "outputs": [],
   "source": [
    "xhtrain,xhtest,yhtrain,yhtest=train_test_split(featureshog,labelshog,test_size=0.30,random_state=0)"
   ]
  },
  {
   "cell_type": "code",
   "execution_count": 4,
   "id": "c5c24ae6",
   "metadata": {},
   "outputs": [],
   "source": [
    "xltrain,xltest,yltrain,yltest=train_test_split(featureslbp,labelslbp,test_size=0.30,random_state=0)"
   ]
  },
  {
   "cell_type": "code",
   "execution_count": 5,
   "id": "e4337154",
   "metadata": {},
   "outputs": [],
   "source": [
    "xctrain,xctest,yctrain,yctest=train_test_split(combinedfeatures,combinedlabels,test_size=0.30,random_state=0)"
   ]
  },
  {
   "cell_type": "markdown",
   "id": "2ff7cbcc",
   "metadata": {},
   "source": [
    "## Hog model"
   ]
  },
  {
   "cell_type": "code",
   "execution_count": 10,
   "id": "5701359f",
   "metadata": {},
   "outputs": [
    {
     "data": {
      "text/plain": [
       "SVC(C=0.1, gamma=1, kernel='poly', probability=True)"
      ]
     },
     "execution_count": 10,
     "metadata": {},
     "output_type": "execute_result"
    }
   ],
   "source": [
    "modelhog=SVC(C=0.1,kernel='poly',gamma=1,probability=True)\n",
    "modelhog.fit(xhtrain,yhtrain)"
   ]
  },
  {
   "cell_type": "code",
   "execution_count": 11,
   "id": "2faf80d9",
   "metadata": {},
   "outputs": [
    {
     "name": "stdout",
     "output_type": "stream",
     "text": [
      "Accuracy:  0.9472934472934473\n",
      "Prediction is : Bengali\n",
      "              precision    recall  f1-score   support\n",
      "\n",
      "           0       0.95      0.91      0.93       557\n",
      "           1       0.94      0.97      0.96       847\n",
      "\n",
      "    accuracy                           0.95      1404\n",
      "   macro avg       0.95      0.94      0.94      1404\n",
      "weighted avg       0.95      0.95      0.95      1404\n",
      "\n"
     ]
    }
   ],
   "source": [
    "predictionhog=modelhog.predict(xhtest)\n",
    "accuracyhog=modelhog.score(xhtest,yhtest)\n",
    "\n",
    "categories=['Bengali','Hindi']\n",
    "\n",
    "print('Accuracy: ',accuracyhog)\n",
    "print('Prediction is :',categories[predictionhog[0]])\n",
    "print(classification_report(yhtest, predictionhog))"
   ]
  },
  {
   "cell_type": "markdown",
   "id": "30d143e2",
   "metadata": {},
   "source": [
    "## Lbp model"
   ]
  },
  {
   "cell_type": "code",
   "execution_count": 8,
   "id": "4f5552b1",
   "metadata": {},
   "outputs": [
    {
     "data": {
      "text/plain": [
       "SVC(C=0.1, gamma='auto', kernel='poly', probability=True)"
      ]
     },
     "execution_count": 8,
     "metadata": {},
     "output_type": "execute_result"
    }
   ],
   "source": [
    "modellbp=SVC(C=0.1,kernel='poly',gamma='auto',probability=True)\n",
    "modellbp.fit(xltrain,yltrain)"
   ]
  },
  {
   "cell_type": "code",
   "execution_count": 9,
   "id": "7c67a442",
   "metadata": {
    "scrolled": true
   },
   "outputs": [
    {
     "name": "stdout",
     "output_type": "stream",
     "text": [
      "Accuracy:  0.6227445394112061\n",
      "Prediction is : Hindi\n",
      "              precision    recall  f1-score   support\n",
      "\n",
      "           0       0.49      0.31      0.38      1573\n",
      "           1       0.66      0.81      0.73      2639\n",
      "\n",
      "    accuracy                           0.62      4212\n",
      "   macro avg       0.58      0.56      0.56      4212\n",
      "weighted avg       0.60      0.62      0.60      4212\n",
      "\n"
     ]
    }
   ],
   "source": [
    "predictionlbp=model.predict(xltest)\n",
    "accuracylbp=model.score(xltest,yltest)\n",
    "\n",
    "categories=['Bengali','Hindi']\n",
    "\n",
    "print('Accuracy: ',accuracylbp)\n",
    "print('Prediction is :',categories[predictionlbp[0]])\n",
    "print(classification_report(yltest, predictionlbp))"
   ]
  },
  {
   "cell_type": "markdown",
   "id": "c3d5a7c0",
   "metadata": {},
   "source": [
    "## hog-lbp combined through concatenation"
   ]
  },
  {
   "cell_type": "code",
   "execution_count": 95,
   "id": "3382bf49",
   "metadata": {},
   "outputs": [
    {
     "name": "stdout",
     "output_type": "stream",
     "text": [
      "Accuracy:  0.8513770180436847\n",
      "Prediction is : Hindi\n",
      "              precision    recall  f1-score   support\n",
      "\n",
      "           0       0.90      0.69      0.78      1628\n",
      "           1       0.83      0.95      0.89      2584\n",
      "\n",
      "    accuracy                           0.85      4212\n",
      "   macro avg       0.87      0.82      0.83      4212\n",
      "weighted avg       0.86      0.85      0.85      4212\n",
      "\n"
     ]
    }
   ],
   "source": [
    "#we do scaling to make sure they take values int the same scale to prevent one feature to dominate the other which would be neglected and therefore undermine our model\n",
    "#it is mean and standard deviation of all the values of the available set so y train or test set is future data so not to touched with new observations use the same scaler model on x_test to get same transformation like x_train\n",
    "from sklearn.preprocessing import StandardScaler\n",
    "sc=StandardScaler()\n",
    "#we dont have to apply for the dummy variables as they are already btw -3 to +3 and we'll loose the interpretation as it acts as labels\n",
    "xctrain=sc.fit_transform(xctrain)\n",
    "#fit method will compute mean and sd and transform will transform the features with standardisation\n",
    "xctest=sc.transform(xctest)\n",
    "model=SVC(C=0.01,kernel='poly',gamma=1)\n",
    "model.fit(xctrain,yctrain)\n",
    "prediction=model.predict(xctest)\n",
    "accuracy=model.score(xctest,yctest)\n",
    "\n",
    "categories=['Bengali','Hindi']\n",
    "\n",
    "print('Accuracy: ',accuracy)\n",
    "print('Prediction is :',categories[prediction[0]])\n",
    "print(classification_report(yctest, prediction))"
   ]
  },
  {
   "cell_type": "markdown",
   "id": "96c22710",
   "metadata": {},
   "source": [
    "## Storing the models"
   ]
  },
  {
   "cell_type": "code",
   "execution_count": 36,
   "id": "324bb68e",
   "metadata": {},
   "outputs": [],
   "source": [
    "pick=open('finallbp.sav','wb')\n",
    "pickle.dump(modellbp,pick)\n",
    "pick.close()"
   ]
  },
  {
   "cell_type": "code",
   "execution_count": 8,
   "id": "61010205",
   "metadata": {},
   "outputs": [],
   "source": [
    "pick=open('lbp_model1.sav','rb')\n",
    "model=pickle.load(pick)\n",
    "pick.close()"
   ]
  },
  {
   "cell_type": "code",
   "execution_count": 37,
   "id": "ae28a53d",
   "metadata": {},
   "outputs": [],
   "source": [
    "pick=open('finalhog.sav','wb')\n",
    "pickle.dump(modelhog,pick)\n",
    "pick.close()"
   ]
  },
  {
   "cell_type": "code",
   "execution_count": 63,
   "id": "6ffa46f5",
   "metadata": {},
   "outputs": [],
   "source": [
    "pick=open('finalhog.sav','rb')\n",
    "modelhog=pickle.load(pick)\n",
    "pick.close()"
   ]
  },
  {
   "cell_type": "code",
   "execution_count": 53,
   "id": "d014c893",
   "metadata": {},
   "outputs": [],
   "source": [
    "pick=open('finalhoglbp.sav','wb')\n",
    "pickle.dump(model,pick)\n",
    "pick.close()"
   ]
  },
  {
   "cell_type": "code",
   "execution_count": null,
   "id": "6f87d4af",
   "metadata": {},
   "outputs": [],
   "source": [
    "pick=open('finalhoglbp.sav','rb')\n",
    "model=pickle.load(pick)\n",
    "pick.close()"
   ]
  },
  {
   "cell_type": "markdown",
   "id": "32b0b5d2",
   "metadata": {},
   "source": [
    "## Mean of predictions Hog+Lbp"
   ]
  },
  {
   "cell_type": "code",
   "execution_count": 12,
   "id": "44791ca6",
   "metadata": {},
   "outputs": [
    {
     "name": "stdout",
     "output_type": "stream",
     "text": [
      "1404 1404\n"
     ]
    }
   ],
   "source": [
    "predhog=modelhog.predict_proba(xhtest)\n",
    "predlbp=modellbp.predict_proba(xltest)\n",
    "finalprob=(predhog+predlbp)/2\n",
    "print(len(finalprob),len(predhog))"
   ]
  },
  {
   "cell_type": "code",
   "execution_count": 80,
   "id": "4fb404fd",
   "metadata": {},
   "outputs": [
    {
     "name": "stdout",
     "output_type": "stream",
     "text": [
      "              precision    recall  f1-score   support\n",
      "\n",
      "           0       0.93      0.89      0.91      1628\n",
      "           1       0.93      0.96      0.95      2584\n",
      "\n",
      "    accuracy                           0.93      4212\n",
      "   macro avg       0.93      0.92      0.93      4212\n",
      "weighted avg       0.93      0.93      0.93      4212\n",
      "\n"
     ]
    }
   ],
   "source": [
    "finalpred=[]\n",
    "for i in range(len(finalprob)):\n",
    "    if(finalprob[i][0]>finalprob[i][1]):\n",
    "        finalpred.append(0)\n",
    "    else:\n",
    "        finalpred.append(1)\n",
    "\n",
    "print(classification_report(yltest,finalpred))"
   ]
  },
  {
   "cell_type": "code",
   "execution_count": 96,
   "id": "8c0bdf27",
   "metadata": {},
   "outputs": [
    {
     "name": "stdout",
     "output_type": "stream",
     "text": [
      "Accuracy: 0.9323361823361823\n",
      "Precision: 0.9316560270371761\n",
      "Recall: 0.9601393188854489\n",
      "Confusion matrix\n",
      "By definition a confusion matrix C  is such that C(i,j)  is equal to the number of observations known to be in group i and predicted to be in group j.\n",
      "[[1446  182]\n",
      " [ 103 2481]]\n"
     ]
    }
   ],
   "source": [
    "from sklearn import metrics\n",
    "# Model Accuracy: how often is the classifier correct?\n",
    "print(\"Accuracy:\",metrics.accuracy_score(yhtest,finalpred))\n",
    "\n",
    "# Model Precision: what percentage of positive tuples are labeled as such?\n",
    "print(\"Precision:\",metrics.precision_score(yhtest,finalpred))\n",
    "\n",
    "# Model Recall: what percentage of positive tuples are labelled as such?\n",
    "print(\"Recall:\",metrics.recall_score(yhtest,finalpred))\n",
    "y_true=yhtest\n",
    "y_pred=finalpred\n",
    "# Printing the confusion matrix\n",
    "# The columns will show the instances predicted for each label,\n",
    "# and the rows will show the actual number of instances for each label.\n",
    "print(\"Confusion matrix\")\n",
    "print(\"By definition a confusion matrix C  is such that C(i,j)  is equal to the number of observations known to be in group i and predicted to be in group j.\")\n",
    "print(metrics.confusion_matrix(y_true,y_pred, labels=[0,1]))"
   ]
  },
  {
   "cell_type": "markdown",
   "id": "b3021f0d",
   "metadata": {},
   "source": [
    "# Rough Start"
   ]
  },
  {
   "cell_type": "code",
   "execution_count": 58,
   "id": "a55e80a1",
   "metadata": {},
   "outputs": [
    {
     "name": "stdout",
     "output_type": "stream",
     "text": [
      "              precision    recall  f1-score   support\n",
      "\n",
      "           0       0.99      0.98      0.99      1628\n",
      "           1       0.99      1.00      0.99      2584\n",
      "\n",
      "    accuracy                           0.99      4212\n",
      "   macro avg       0.99      0.99      0.99      4212\n",
      "weighted avg       0.99      0.99      0.99      4212\n",
      "\n"
     ]
    }
   ],
   "source": [
    "predictfinal=[]\n",
    "\n",
    "for i in range(len(xltest)):\n",
    "    n=modellbp.score([xltest[i]],[yltest[i]])\n",
    "    m=modelhog.score([xhtest[i]],[yhtest[i]])\n",
    "    if m >= n:\n",
    "        z=modelhog.predict([xhtest[i]])\n",
    "        predictfinal.append(z[0])\n",
    "    else:\n",
    "        y=modellbp.predict([xltest[i]])\n",
    "        predictfinal.append(y[0])\n",
    "\n",
    "print(classification_report(yltest, predictfinal))\n",
    "   "
   ]
  },
  {
   "cell_type": "markdown",
   "id": "9d77872e",
   "metadata": {},
   "source": [
    "## Verification of model accuracy that when score is zero means it is predicting wrong"
   ]
  },
  {
   "cell_type": "code",
   "execution_count": 31,
   "id": "4704cf4f",
   "metadata": {},
   "outputs": [
    {
     "name": "stdout",
     "output_type": "stream",
     "text": [
      "0   [1]\n",
      "0   [1]\n",
      "1   [0]\n",
      "0   [1]\n",
      "0   [1]\n",
      "0   [1]\n",
      "1   [0]\n",
      "1   [0]\n",
      "0   [1]\n",
      "93.85090218423552\n"
     ]
    }
   ],
   "source": [
    "count=0\n",
    "for i in range(len(yhtest)):\n",
    "    if modelhog.score([xhtest[i]],[yhtest[i]])==0:\n",
    "        count=count+1\n",
    "        if(count<10):\n",
    "            print(yhtest[i],' ',modelhog.predict([xhtest[i]]))\n",
    "\n",
    "print((1-(count/len(yhtest)))*100)"
   ]
  },
  {
   "cell_type": "markdown",
   "id": "14f74bba",
   "metadata": {},
   "source": [
    "## Rough"
   ]
  },
  {
   "cell_type": "code",
   "execution_count": 26,
   "id": "62205b0e",
   "metadata": {},
   "outputs": [
    {
     "data": {
      "text/plain": [
       "0"
      ]
     },
     "execution_count": 26,
     "metadata": {},
     "output_type": "execute_result"
    }
   ],
   "source": [
    "z=modellbp.predict([xltest[0]])\n",
    "z[0]"
   ]
  },
  {
   "cell_type": "code",
   "execution_count": 27,
   "id": "bf216825",
   "metadata": {},
   "outputs": [
    {
     "data": {
      "text/plain": [
       "1.0"
      ]
     },
     "execution_count": 27,
     "metadata": {},
     "output_type": "execute_result"
    }
   ],
   "source": [
    "modelhog.score([xhtest[0]],[yhtest[0]])"
   ]
  },
  {
   "cell_type": "code",
   "execution_count": null,
   "id": "d4eb2d62",
   "metadata": {},
   "outputs": [],
   "source": [
    "predictionlbp"
   ]
  },
  {
   "cell_type": "code",
   "execution_count": null,
   "id": "b236eaac",
   "metadata": {},
   "outputs": [],
   "source": [
    "print(len(predictionlbp))"
   ]
  },
  {
   "cell_type": "code",
   "execution_count": null,
   "id": "a220ad8f",
   "metadata": {},
   "outputs": [],
   "source": [
    "xltest[0]"
   ]
  },
  {
   "cell_type": "code",
   "execution_count": null,
   "id": "8c40d2c1",
   "metadata": {},
   "outputs": [],
   "source": [
    "xhtest[0]"
   ]
  },
  {
   "cell_type": "code",
   "execution_count": 69,
   "id": "a82f94c1",
   "metadata": {},
   "outputs": [
    {
     "data": {
      "text/plain": [
       "0.15693072153961093"
      ]
     },
     "execution_count": 69,
     "metadata": {},
     "output_type": "execute_result"
    }
   ],
   "source": [
    "finalpred[0][0]"
   ]
  },
  {
   "cell_type": "code",
   "execution_count": 91,
   "id": "4255e10d",
   "metadata": {},
   "outputs": [
    {
     "name": "stdout",
     "output_type": "stream",
     "text": [
      "[0.3741145 0.6258855] [0.40545487 0.59454513]\n"
     ]
    }
   ],
   "source": [
    "print(predhog[1],predlbp[1])"
   ]
  },
  {
   "cell_type": "code",
   "execution_count": 93,
   "id": "697fab8b",
   "metadata": {},
   "outputs": [
    {
     "name": "stdout",
     "output_type": "stream",
     "text": [
      "[0.38978469 0.61021531] 1\n"
     ]
    }
   ],
   "source": [
    "print(finalprob[1],finalpred[1])"
   ]
  },
  {
   "cell_type": "code",
   "execution_count": 8,
   "id": "d2f5d3a4",
   "metadata": {},
   "outputs": [
    {
     "name": "stdout",
     "output_type": "stream",
     "text": [
      "(8192,)\n",
      "[[0.000e+00]\n",
      " [0.000e+00]\n",
      " [0.000e+00]\n",
      " [1.000e+00]\n",
      " [0.000e+00]\n",
      " [0.000e+00]\n",
      " [0.000e+00]\n",
      " [1.000e+00]\n",
      " [0.000e+00]\n",
      " [0.000e+00]\n",
      " [0.000e+00]\n",
      " [0.000e+00]\n",
      " [0.000e+00]\n",
      " [0.000e+00]\n",
      " [1.000e+00]\n",
      " [3.000e+00]\n",
      " [0.000e+00]\n",
      " [0.000e+00]\n",
      " [0.000e+00]\n",
      " [0.000e+00]\n",
      " [0.000e+00]\n",
      " [0.000e+00]\n",
      " [1.000e+00]\n",
      " [0.000e+00]\n",
      " [0.000e+00]\n",
      " [0.000e+00]\n",
      " [0.000e+00]\n",
      " [0.000e+00]\n",
      " [0.000e+00]\n",
      " [0.000e+00]\n",
      " [6.000e+00]\n",
      " [7.000e+00]\n",
      " [0.000e+00]\n",
      " [0.000e+00]\n",
      " [2.000e+00]\n",
      " [1.000e+00]\n",
      " [0.000e+00]\n",
      " [0.000e+00]\n",
      " [2.000e+00]\n",
      " [1.000e+00]\n",
      " [1.000e+00]\n",
      " [0.000e+00]\n",
      " [0.000e+00]\n",
      " [0.000e+00]\n",
      " [1.000e+00]\n",
      " [1.000e+00]\n",
      " [0.000e+00]\n",
      " [1.000e+00]\n",
      " [1.000e+00]\n",
      " [3.000e+00]\n",
      " [1.000e+00]\n",
      " [0.000e+00]\n",
      " [0.000e+00]\n",
      " [0.000e+00]\n",
      " [0.000e+00]\n",
      " [0.000e+00]\n",
      " [2.000e+00]\n",
      " [0.000e+00]\n",
      " [3.000e+00]\n",
      " [0.000e+00]\n",
      " [6.000e+00]\n",
      " [3.000e+00]\n",
      " [7.200e+01]\n",
      " [2.000e+01]\n",
      " [0.000e+00]\n",
      " [0.000e+00]\n",
      " [1.000e+00]\n",
      " [0.000e+00]\n",
      " [0.000e+00]\n",
      " [0.000e+00]\n",
      " [0.000e+00]\n",
      " [0.000e+00]\n",
      " [0.000e+00]\n",
      " [0.000e+00]\n",
      " [0.000e+00]\n",
      " [0.000e+00]\n",
      " [0.000e+00]\n",
      " [0.000e+00]\n",
      " [1.000e+00]\n",
      " [0.000e+00]\n",
      " [0.000e+00]\n",
      " [0.000e+00]\n",
      " [1.000e+00]\n",
      " [0.000e+00]\n",
      " [0.000e+00]\n",
      " [0.000e+00]\n",
      " [0.000e+00]\n",
      " [0.000e+00]\n",
      " [0.000e+00]\n",
      " [0.000e+00]\n",
      " [0.000e+00]\n",
      " [0.000e+00]\n",
      " [0.000e+00]\n",
      " [0.000e+00]\n",
      " [4.000e+00]\n",
      " [3.000e+00]\n",
      " [0.000e+00]\n",
      " [0.000e+00]\n",
      " [0.000e+00]\n",
      " [0.000e+00]\n",
      " [0.000e+00]\n",
      " [0.000e+00]\n",
      " [0.000e+00]\n",
      " [0.000e+00]\n",
      " [0.000e+00]\n",
      " [0.000e+00]\n",
      " [0.000e+00]\n",
      " [0.000e+00]\n",
      " [1.000e+00]\n",
      " [0.000e+00]\n",
      " [0.000e+00]\n",
      " [0.000e+00]\n",
      " [3.000e+00]\n",
      " [0.000e+00]\n",
      " [1.000e+00]\n",
      " [0.000e+00]\n",
      " [0.000e+00]\n",
      " [0.000e+00]\n",
      " [1.000e+00]\n",
      " [0.000e+00]\n",
      " [3.000e+00]\n",
      " [1.000e+00]\n",
      " [0.000e+00]\n",
      " [0.000e+00]\n",
      " [4.000e+00]\n",
      " [1.000e+00]\n",
      " [2.800e+01]\n",
      " [7.000e+00]\n",
      " [0.000e+00]\n",
      " [0.000e+00]\n",
      " [0.000e+00]\n",
      " [3.000e+00]\n",
      " [0.000e+00]\n",
      " [0.000e+00]\n",
      " [0.000e+00]\n",
      " [2.000e+00]\n",
      " [0.000e+00]\n",
      " [0.000e+00]\n",
      " [0.000e+00]\n",
      " [0.000e+00]\n",
      " [0.000e+00]\n",
      " [0.000e+00]\n",
      " [0.000e+00]\n",
      " [1.390e+02]\n",
      " [0.000e+00]\n",
      " [0.000e+00]\n",
      " [0.000e+00]\n",
      " [0.000e+00]\n",
      " [0.000e+00]\n",
      " [0.000e+00]\n",
      " [0.000e+00]\n",
      " [0.000e+00]\n",
      " [0.000e+00]\n",
      " [0.000e+00]\n",
      " [0.000e+00]\n",
      " [1.000e+00]\n",
      " [0.000e+00]\n",
      " [1.000e+00]\n",
      " [0.000e+00]\n",
      " [9.000e+00]\n",
      " [0.000e+00]\n",
      " [0.000e+00]\n",
      " [0.000e+00]\n",
      " [1.000e+00]\n",
      " [0.000e+00]\n",
      " [0.000e+00]\n",
      " [0.000e+00]\n",
      " [0.000e+00]\n",
      " [0.000e+00]\n",
      " [0.000e+00]\n",
      " [0.000e+00]\n",
      " [0.000e+00]\n",
      " [0.000e+00]\n",
      " [0.000e+00]\n",
      " [0.000e+00]\n",
      " [2.000e+00]\n",
      " [0.000e+00]\n",
      " [0.000e+00]\n",
      " [0.000e+00]\n",
      " [0.000e+00]\n",
      " [0.000e+00]\n",
      " [0.000e+00]\n",
      " [0.000e+00]\n",
      " [0.000e+00]\n",
      " [0.000e+00]\n",
      " [1.000e+00]\n",
      " [0.000e+00]\n",
      " [0.000e+00]\n",
      " [0.000e+00]\n",
      " [6.000e+00]\n",
      " [0.000e+00]\n",
      " [3.400e+01]\n",
      " [0.000e+00]\n",
      " [0.000e+00]\n",
      " [0.000e+00]\n",
      " [2.000e+00]\n",
      " [0.000e+00]\n",
      " [0.000e+00]\n",
      " [0.000e+00]\n",
      " [8.000e+00]\n",
      " [0.000e+00]\n",
      " [0.000e+00]\n",
      " [0.000e+00]\n",
      " [0.000e+00]\n",
      " [0.000e+00]\n",
      " [2.000e+00]\n",
      " [0.000e+00]\n",
      " [8.000e+00]\n",
      " [1.000e+00]\n",
      " [0.000e+00]\n",
      " [0.000e+00]\n",
      " [3.000e+00]\n",
      " [0.000e+00]\n",
      " [0.000e+00]\n",
      " [0.000e+00]\n",
      " [2.000e+00]\n",
      " [0.000e+00]\n",
      " [0.000e+00]\n",
      " [1.000e+00]\n",
      " [3.000e+00]\n",
      " [0.000e+00]\n",
      " [1.000e+00]\n",
      " [2.000e+00]\n",
      " [2.300e+01]\n",
      " [2.000e+00]\n",
      " [3.000e+00]\n",
      " [0.000e+00]\n",
      " [1.430e+02]\n",
      " [3.000e+00]\n",
      " [3.000e+00]\n",
      " [1.000e+00]\n",
      " [1.800e+01]\n",
      " [0.000e+00]\n",
      " [0.000e+00]\n",
      " [0.000e+00]\n",
      " [0.000e+00]\n",
      " [3.000e+00]\n",
      " [1.000e+00]\n",
      " [1.000e+00]\n",
      " [3.100e+01]\n",
      " [3.000e+00]\n",
      " [3.000e+00]\n",
      " [0.000e+00]\n",
      " [2.400e+01]\n",
      " [0.000e+00]\n",
      " [0.000e+00]\n",
      " [0.000e+00]\n",
      " [3.000e+00]\n",
      " [6.000e+00]\n",
      " [9.000e+00]\n",
      " [4.000e+00]\n",
      " [3.100e+01]\n",
      " [6.000e+00]\n",
      " [4.400e+01]\n",
      " [3.700e+01]\n",
      " [7.357e+03]]\n"
     ]
    },
    {
     "data": {
      "image/png": "[encoded data removed]",
      "text/plain": [
       "<Figure size 432x288 with 1 Axes>"
      ]
     },
     "metadata": {
      "needs_background": "light"
     },
     "output_type": "display_data"
    }
   ],
   "source": [
    "print(featureslbp[1].shape)\n",
    "histr = cv2.calcHist([featureslbp[0]],[0],None,[256],[0,256])\n",
    "print(histr)\n",
    "plt.plot(histr)\n",
    "plt.show()"
   ]
  },
  {
   "cell_type": "markdown",
   "id": "db5dd123",
   "metadata": {},
   "source": [
    "## Rough end"
   ]
  }
 ],
 "metadata": {
  "kernelspec": {
   "display_name": "Python 3",
   "language": "python",
   "name": "python3"
  },
  "language_info": {
   "codemirror_mode": {
    "name": "ipython",
    "version": 3
   },
   "file_extension": ".py",
   "mimetype": "text/x-python",
   "name": "python",
   "nbconvert_exporter": "python",
   "pygments_lexer": "ipython3",
   "version": "3.8.8"
  }
 },
 "nbformat": 4,
 "nbformat_minor": 5
}
